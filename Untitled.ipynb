{
 "cells": [
  {
   "cell_type": "code",
   "execution_count": 1,
   "metadata": {
    "collapsed": true
   },
   "outputs": [],
   "source": [
    "import newmodel"
   ]
  },
  {
   "cell_type": "code",
   "execution_count": 2,
   "metadata": {
    "collapsed": true
   },
   "outputs": [],
   "source": [
    "from collections import namedtuple"
   ]
  },
  {
   "cell_type": "code",
   "execution_count": 2,
   "metadata": {
    "collapsed": true
   },
   "outputs": [],
   "source": [
    "%load_ext autoreload\n",
    "%autoreload 2"
   ]
  },
  {
   "cell_type": "code",
   "execution_count": 31,
   "metadata": {
    "collapsed": true
   },
   "outputs": [],
   "source": [
    "Arguments = namedtuple('Arguments', ['max_depth', 'cuda', 'input_dim', 'output_dim', 'lmbda', 'lr', 'momentum'])"
   ]
  },
  {
   "cell_type": "code",
   "execution_count": 32,
   "metadata": {
    "collapsed": true
   },
   "outputs": [],
   "source": [
    "args = Arguments(max_depth=3, cuda=True, input_dim=4, output_dim=10, lmbda=0.1, lr=0.01, momentum=0.1)"
   ]
  },
  {
   "cell_type": "code",
   "execution_count": 35,
   "metadata": {
    "collapsed": true
   },
   "outputs": [],
   "source": [
    "tree = newmodel.SoftDecisionTree(args)"
   ]
  },
  {
   "cell_type": "code",
   "execution_count": 36,
   "metadata": {
    "scrolled": true
   },
   "outputs": [
    {
     "data": {
      "text/plain": [
       "ModuleList(\n",
       "  (0): Linear(in_features=4, out_features=1)\n",
       "  (1): Linear(in_features=4, out_features=1)\n",
       "  (2): Linear(in_features=4, out_features=1)\n",
       "  (3): Linear(in_features=4, out_features=1)\n",
       "  (4): Linear(in_features=4, out_features=1)\n",
       "  (5): Linear(in_features=4, out_features=1)\n",
       "  (6): Linear(in_features=4, out_features=1)\n",
       ")"
      ]
     },
     "execution_count": 36,
     "metadata": {},
     "output_type": "execute_result"
    }
   ],
   "source": [
    "tree.layers"
   ]
  },
  {
   "cell_type": "code",
   "execution_count": null,
   "metadata": {
    "collapsed": true
   },
   "outputs": [],
   "source": []
  },
  {
   "cell_type": "code",
   "execution_count": null,
   "metadata": {
    "collapsed": true
   },
   "outputs": [],
   "source": []
  },
  {
   "cell_type": "code",
   "execution_count": null,
   "metadata": {
    "collapsed": true
   },
   "outputs": [],
   "source": []
  },
  {
   "cell_type": "code",
   "execution_count": 1,
   "metadata": {
    "collapsed": true
   },
   "outputs": [],
   "source": [
    "import torch\n",
    "import torch.nn as nn\n",
    "from torch.autograd import Variable"
   ]
  },
  {
   "cell_type": "code",
   "execution_count": 29,
   "metadata": {
    "collapsed": true
   },
   "outputs": [],
   "source": [
    "numleaves = 4\n",
    "bs = 6\n",
    "c = 3\n",
    "\n",
    "paths_probs = nn.Softmax(dim = 1)(Variable(torch.randn(bs, numleaves, 1))).data"
   ]
  },
  {
   "cell_type": "code",
   "execution_count": 35,
   "metadata": {
    "scrolled": true
   },
   "outputs": [
    {
     "data": {
      "text/plain": [
       "\n",
       "(0 ,.,.) = \n",
       "  0.4416\n",
       "  0.4202\n",
       "  0.0389\n",
       "  0.0993\n",
       "\n",
       "(1 ,.,.) = \n",
       "  0.1232\n",
       "  0.2808\n",
       "  0.2864\n",
       "  0.3095\n",
       "\n",
       "(2 ,.,.) = \n",
       "  0.2442\n",
       "  0.2664\n",
       "  0.2674\n",
       "  0.2220\n",
       "\n",
       "(3 ,.,.) = \n",
       "  0.0732\n",
       "  0.3092\n",
       "  0.2165\n",
       "  0.4012\n",
       "\n",
       "(4 ,.,.) = \n",
       "  0.2166\n",
       "  0.3543\n",
       "  0.2728\n",
       "  0.1563\n",
       "\n",
       "(5 ,.,.) = \n",
       "  0.3760\n",
       "  0.4307\n",
       "  0.0343\n",
       "  0.1589\n",
       "[torch.FloatTensor of size 6x4x1]"
      ]
     },
     "execution_count": 35,
     "metadata": {},
     "output_type": "execute_result"
    }
   ],
   "source": [
    "paths_probs"
   ]
  },
  {
   "cell_type": "code",
   "execution_count": 40,
   "metadata": {},
   "outputs": [],
   "source": [
    "most_probable_leaf_idx = paths_probs.max(dim=1)[1].view(-1)  # bs"
   ]
  },
  {
   "cell_type": "code",
   "execution_count": 77,
   "metadata": {},
   "outputs": [
    {
     "data": {
      "text/plain": [
       "\n",
       " 0\n",
       " 3\n",
       " 2\n",
       " 3\n",
       " 1\n",
       " 1\n",
       "[torch.LongTensor of size 6]"
      ]
     },
     "execution_count": 77,
     "metadata": {},
     "output_type": "execute_result"
    }
   ],
   "source": [
    "most_probable_leaf_idx"
   ]
  },
  {
   "cell_type": "code",
   "execution_count": 41,
   "metadata": {
    "collapsed": true
   },
   "outputs": [],
   "source": [
    "distribs = nn.Softmax(dim = 2)(Variable(torch.randn(bs, numleaves, c))).data"
   ]
  },
  {
   "cell_type": "code",
   "execution_count": 45,
   "metadata": {
    "scrolled": true
   },
   "outputs": [
    {
     "data": {
      "text/plain": [
       "\n",
       "(0 ,.,.) = \n",
       "  0.2023  0.4449  0.3529\n",
       "  0.2442  0.6288  0.1270\n",
       "  0.0098  0.8520  0.1381\n",
       "  0.3593  0.4576  0.1830\n",
       "\n",
       "(1 ,.,.) = \n",
       "  0.0413  0.2496  0.7091\n",
       "  0.1294  0.1131  0.7575\n",
       "  0.2253  0.2667  0.5080\n",
       "  0.0478  0.5903  0.3619\n",
       "\n",
       "(2 ,.,.) = \n",
       "  0.3859  0.1828  0.4313\n",
       "  0.2887  0.5097  0.2016\n",
       "  0.1813  0.6226  0.1961\n",
       "  0.4192  0.2397  0.3411\n",
       "\n",
       "(3 ,.,.) = \n",
       "  0.7596  0.0967  0.1437\n",
       "  0.1624  0.1190  0.7185\n",
       "  0.3947  0.3589  0.2464\n",
       "  0.0736  0.1503  0.7762\n",
       "\n",
       "(4 ,.,.) = \n",
       "  0.2273  0.6696  0.1031\n",
       "  0.1615  0.6072  0.2314\n",
       "  0.3993  0.4710  0.1297\n",
       "  0.0481  0.5304  0.4215\n",
       "\n",
       "(5 ,.,.) = \n",
       "  0.2441  0.6085  0.1474\n",
       "  0.5761  0.3043  0.1196\n",
       "  0.3217  0.6241  0.0543\n",
       "  0.1660  0.0433  0.7908\n",
       "[torch.FloatTensor of size 6x4x3]"
      ]
     },
     "execution_count": 45,
     "metadata": {},
     "output_type": "execute_result"
    }
   ],
   "source": [
    "distribs"
   ]
  },
  {
   "cell_type": "code",
   "execution_count": 78,
   "metadata": {},
   "outputs": [
    {
     "data": {
      "text/plain": [
       "\n",
       " 0.2023  0.4449  0.3529\n",
       " 0.0478  0.5903  0.3619\n",
       " 0.1813  0.6226  0.1961\n",
       " 0.0736  0.1503  0.7762\n",
       " 0.1615  0.6072  0.2314\n",
       " 0.5761  0.3043  0.1196\n",
       "[torch.FloatTensor of size 6x3]"
      ]
     },
     "execution_count": 78,
     "metadata": {},
     "output_type": "execute_result"
    }
   ],
   "source": [
    "distribs.gather(dim=1, index=most_probable_leaf_idx.view(-1, 1, 1).expand(-1, 1, c)).view(bs, c)"
   ]
  },
  {
   "cell_type": "code",
   "execution_count": 80,
   "metadata": {
    "collapsed": true
   },
   "outputs": [],
   "source": [
    "y = torch.LongTensor([0, 1, 2, 1, 2, 0])"
   ]
  },
  {
   "cell_type": "code",
   "execution_count": 83,
   "metadata": {},
   "outputs": [
    {
     "data": {
      "text/plain": [
       "\n",
       " 0.2023  0.2442  0.0098  0.3593\n",
       " 0.2496  0.1131  0.2667  0.5903\n",
       " 0.4313  0.2016  0.1961  0.3411\n",
       " 0.0967  0.1190  0.3589  0.1503\n",
       " 0.1031  0.2314  0.1297  0.4215\n",
       " 0.2441  0.5761  0.3217  0.1660\n",
       "[torch.FloatTensor of size 6x4]"
      ]
     },
     "execution_count": 83,
     "metadata": {},
     "output_type": "execute_result"
    }
   ],
   "source": [
    "distribs.gather(dim=2, index=y.view(-1, 1, 1).expand(-1, numleaves, 1)).view(bs, numleaves)"
   ]
  },
  {
   "cell_type": "code",
   "execution_count": 84,
   "metadata": {},
   "outputs": [
    {
     "data": {
      "text/plain": [
       "\n",
       " 1\n",
       " 5\n",
       "[torch.FloatTensor of size 2]"
      ]
     },
     "execution_count": 84,
     "metadata": {},
     "output_type": "execute_result"
    }
   ],
   "source": [
    "torch.FloatTensor([[0, 1],\n",
    "                   [2, 3]]).sum(dim=1)"
   ]
  },
  {
   "cell_type": "code",
   "execution_count": null,
   "metadata": {
    "collapsed": true
   },
   "outputs": [],
   "source": []
  }
 ],
 "metadata": {
  "kernelspec": {
   "display_name": "Python [default]",
   "language": "python",
   "name": "python3"
  },
  "language_info": {
   "codemirror_mode": {
    "name": "ipython",
    "version": 3
   },
   "file_extension": ".py",
   "mimetype": "text/x-python",
   "name": "python",
   "nbconvert_exporter": "python",
   "pygments_lexer": "ipython3",
   "version": "3.6.1"
  }
 },
 "nbformat": 4,
 "nbformat_minor": 2
}
